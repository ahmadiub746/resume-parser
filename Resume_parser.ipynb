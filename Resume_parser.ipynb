{
 "cells": [
  {
   "cell_type": "code",
   "execution_count": 1,
   "id": "d2995050",
   "metadata": {},
   "outputs": [],
   "source": [
    "# !pip install spacy\n",
    "# !pip install PyMuPDF\n",
    "# !python -m spacy download en_core_web_lg"
   ]
  },
  {
   "cell_type": "code",
   "execution_count": 2,
   "id": "dc538135",
   "metadata": {},
   "outputs": [],
   "source": [
    "import sys,fitz\n",
    "def convert(fname):\n",
    "    doc = fitz.open(fname)\n",
    "    text = \"\"\n",
    "    for page in doc:\n",
    "        text = text +str(page.get_text())\n",
    "    tx = \" \".join(text.split(\"\\n\"))\n",
    "    return tx"
   ]
  },
  {
   "cell_type": "code",
   "execution_count": 3,
   "id": "5c69ec65",
   "metadata": {},
   "outputs": [],
   "source": [
    "import re\n",
    "import spacy\n",
    "nlp = spacy.load(\"en_core_web_lg\")\n",
    "skills = \"jz_skill_patterns.jsonl\"\n",
    "ruler = nlp.add_pipe(\"entity_ruler\",before = \"ner\")\n",
    "ruler.from_disk(skills)\n",
    "pattern = [{\n",
    "    \"label\":\"EMAIL\",\"pattern\":[{\"TEXT\":{\"REGEX\" : \"([^@|\\s]+@[^@]+\\.[^@|\\s]+)\"}}\n",
    "                              ]},\n",
    "    {\n",
    "        \"label\":\"MOBILE\",\"pattern\":[{\"TEXT\":{\"REGEX\" : \"(?:(?:\\+?([1-9]|[0-9][0-9]|[0-9][0-9][0-9])\\s*(?:[.-]\\s*)?)?(?:\\(\\s*([2-9]1[02-9]|[2-9][02-8]1|[2-9][02-8][02-9])\\s*\\)|([0-9][1-9]|[0-9]1[02-9]|[2-9][02-8]1|[2-9][02-8][02-9]))\\s*(?:[.-]\\s*)?)?([2-9]1[02-9]|[2-9][02-9]1|[2-9][02-9]{2})\\s*(?:[.-]\\s*)?([0-9]{4})(?:\\s*(?:#|x\\.?|ext\\.?|extension)\\s*(\\d+))?\"}}\n",
    "                                   ]\n",
    "    }\n",
    "]"
   ]
  },
  {
   "cell_type": "code",
   "execution_count": 4,
   "id": "f1a758ce",
   "metadata": {},
   "outputs": [],
   "source": [
    "ruler.add_patterns(pattern)"
   ]
  },
  {
   "cell_type": "code",
   "execution_count": 5,
   "id": "caf75297",
   "metadata": {},
   "outputs": [],
   "source": [
    "text = convert(\"Mohamed_fathy.pdf\")"
   ]
  },
  {
   "cell_type": "code",
   "execution_count": 6,
   "id": "d1d405bf",
   "metadata": {},
   "outputs": [],
   "source": [
    "doc = nlp(text)"
   ]
  },
  {
   "cell_type": "code",
   "execution_count": 7,
   "id": "d359da3b",
   "metadata": {},
   "outputs": [],
   "source": [
    "# from spacy import displacy\n",
    "# displacy.render(doc, style=\"ent\", jupyter=True)"
   ]
  },
  {
   "cell_type": "code",
   "execution_count": 8,
   "id": "7f791846",
   "metadata": {},
   "outputs": [],
   "source": [
    "dic = {}\n",
    "skills = []\n",
    "i = 0\n",
    "for ent in doc.ents:\n",
    "    if ent.label_ == \"PERSON\" and i == 0:\n",
    "        dic[\"PERSON\"] = ent.text\n",
    "        i += 1\n",
    "    if ent.label_ == \"EMAIL\":\n",
    "        dic[\"EMAIL\"] = ent.text\n",
    "    if ent.label_ == \"MOBILE\":\n",
    "        dic[\"MOBILE\"] = ent.text\n",
    "    if ent.label_ == \"SKILL\":\n",
    "        skills.append(ent.text)\n",
    "skills = [i.capitalize() for i in set([i.lower() for i in skills])]\n",
    "dic[\"SKILLS\"] = skills\n",
    "dic[\"location\"] = [entity.text for entity in doc.ents if entity.label_ == 'GPE'][0]"
   ]
  },
  {
   "cell_type": "code",
   "execution_count": 9,
   "id": "96618c22",
   "metadata": {},
   "outputs": [],
   "source": [
    "portfolio=[]\n",
    "from spacy.lang.tokenizer_exceptions import URL_PATTERN\n",
    "custom_infixes = [URL_PATTERN[1:-1]] + list(nlp.Defaults.infixes)\n",
    "nlp.tokenizer.infix_finditer = spacy.util.compile_infix_regex(custom_infixes).finditer\n",
    "for t in nlp.tokenizer.explain(doc.text):\n",
    "    if t[0] == \"URL_MATCH\":\n",
    "        if \"/\" in t[1]:\n",
    "            portfolio.append(t[1])"
   ]
  },
  {
   "cell_type": "code",
   "execution_count": 10,
   "id": "4aba6868",
   "metadata": {},
   "outputs": [],
   "source": [
    "import re\n",
    "rx = re.compile(r\"(\\d+(?:-\\d+)?\\+?)\\s*(years?)\", re.I)\n",
    "exp_temp = rx.search(text)\n",
    "if exp_temp:\n",
    "    dic[\"experience\"] = \" \".join(exp_temp.groups())"
   ]
  },
  {
   "cell_type": "code",
   "execution_count": 11,
   "id": "e58a54a3",
   "metadata": {},
   "outputs": [],
   "source": [
    "dic[\"Link\"] = portfolio"
   ]
  },
  {
   "cell_type": "code",
   "execution_count": 12,
   "id": "b5f661b0",
   "metadata": {
    "scrolled": true
   },
   "outputs": [
    {
     "data": {
      "text/plain": [
       "{'PERSON': 'MOHAMED AHMED FATHY',\n",
       " 'MOBILE': '+201009978304',\n",
       " 'EMAIL': 'Mohamed.ahmedmoreb@gmail.com',\n",
       " 'SKILLS': ['Database',\n",
       "  'Redux',\n",
       "  'Angular',\n",
       "  'Graphql',\n",
       "  'Html',\n",
       "  'Django',\n",
       "  'Mysql',\n",
       "  'Dart',\n",
       "  'Data structure',\n",
       "  'Wordpress',\n",
       "  'Google drive',\n",
       "  'Azure',\n",
       "  'Typescript',\n",
       "  'Engineering',\n",
       "  'React',\n",
       "  'C++',\n",
       "  'Front end',\n",
       "  'Heroku',\n",
       "  'Software',\n",
       "  'Mongodb',\n",
       "  'Javascript',\n",
       "  'Android',\n",
       "  'Google',\n",
       "  'C',\n",
       "  'Algorithm',\n",
       "  'Trello',\n",
       "  'Docker',\n",
       "  'Docker compose',\n",
       "  'Search engine',\n",
       "  'Php',\n",
       "  'Sql',\n",
       "  'Laravel',\n",
       "  'Flutter',\n",
       "  'Testing',\n",
       "  'Workflow',\n",
       "  'Flask',\n",
       "  'Finance',\n",
       "  'Python',\n",
       "  'Mean',\n",
       "  'Java',\n",
       "  'Css',\n",
       "  'Design'],\n",
       " 'location': 'Cairo',\n",
       " 'experience': '1+ year',\n",
       " 'Link': ['https://github.com/mhmdahmedfathi/Search-Engine',\n",
       "  'https://github.com/mhmdahmedfathi/Tasks_NTI',\n",
       "  'https://github.com/mhmdahmedfathi/NTI_Project']}"
      ]
     },
     "execution_count": 12,
     "metadata": {},
     "output_type": "execute_result"
    }
   ],
   "source": [
    "dic"
   ]
  }
 ],
 "metadata": {
  "kernelspec": {
   "display_name": "Python 3",
   "language": "python",
   "name": "python3"
  },
  "language_info": {
   "codemirror_mode": {
    "name": "ipython",
    "version": 3
   },
   "file_extension": ".py",
   "mimetype": "text/x-python",
   "name": "python",
   "nbconvert_exporter": "python",
   "pygments_lexer": "ipython3",
   "version": "3.10.1"
  },
  "vscode": {
   "interpreter": {
    "hash": "0ce752f791788e706e403b407394b32df66e602d79d3a6bbbc615aaf58482da3"
   }
  }
 },
 "nbformat": 4,
 "nbformat_minor": 5
}
